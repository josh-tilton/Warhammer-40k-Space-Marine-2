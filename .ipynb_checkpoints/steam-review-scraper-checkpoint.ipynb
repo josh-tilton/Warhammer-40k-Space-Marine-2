{
 "cells": [
  {
   "cell_type": "markdown",
   "metadata": {},
   "source": [
    "# Steam Game Review Scraper"
   ]
  },
  {
   "cell_type": "markdown",
   "metadata": {},
   "source": [
    "Scrape game review data from Steam, including the user, profile link, and the content of the review itself"
   ]
  },
  {
   "cell_type": "code",
   "execution_count": 34,
   "metadata": {},
   "outputs": [],
   "source": [
    "from selenium import webdriver\n",
    "from selenium.webdriver.edge.service import Service\n",
    "from selenium.webdriver.edge.options import Options\n",
    "from selenium.webdriver.common.keys import Keys\n",
    "from selenium.webdriver.common.by import By\n",
    "import re\n",
    "from time import sleep\n",
    "from datetime import datetime\n",
    "from openpyxl import Workbook\n",
    "import csv"
   ]
  },
  {
   "cell_type": "markdown",
   "metadata": {},
   "source": [
    "## Requirements\n",
    "You'll need to install the following libraries before beginning this project:\n",
    "- [Selenium](https://www.selenium.dev/downloads/) : for automating the web browser; this can be involved... so check my [short YouTube video](https://youtu.be/9XAH_TvxwLg) for a walkthrough.\n",
    "- [OpenPyXL](https://openpyxl.readthedocs.io/en/stable/) : for saving the data to an Excel spreadsheet (optional)\n",
    "\n",
    "## Example\n",
    "If you want to see an example of the output... you can see the results of me running the scaper for about 5 minutes on a particular game  \n",
    "[Click to view Excel file](https://drive.google.com/file/d/1Ld04lwFY7OjIMU2wJxRcgdPvJ0o43BRo/view?usp=sharing)"
   ]
  },
  {
   "cell_type": "markdown",
   "metadata": {},
   "source": [
    "## Getting started"
   ]
  },
  {
   "cell_type": "markdown",
   "metadata": {},
   "source": [
    "Lookup the game id by doing a search on steam, navigate to the game homepage, and then get the number embedded in the URL before the game title."
   ]
  },
  {
   "cell_type": "code",
   "execution_count": 35,
   "metadata": {},
   "outputs": [],
   "source": [
    "# Warhammer 40k: Space Marine 2\n",
    "game_id = 2183900"
   ]
  },
  {
   "cell_type": "markdown",
   "metadata": {},
   "source": [
    "The url template below can be altered to filter by sentiment, language, and recency.  \n",
    "\n",
    "Check the [website](https://steamcommunity.com/app/387990/positivereviews/?browsefilter=mostrecent) to see what options are available. For this project, I'm going to focus on **Positive** reviews only and sort by **Most Recent**."
   ]
  },
  {
   "cell_type": "code",
   "execution_count": 36,
   "metadata": {},
   "outputs": [],
   "source": [
    "template = 'https://steamcommunity.com/app/{}/positivereviews/?browsefilter=mostrecent'\n",
    "template_with_language = 'https://steamcommunity.com/app/{}/positivereviews/?browsefilter=mostrecent&filterLanguage=english'\n",
    "\n",
    "url = template_with_language.format(game_id)"
   ]
  },
  {
   "cell_type": "code",
   "execution_count": 37,
   "metadata": {},
   "outputs": [],
   "source": [
    "# Set up options for Edge (Chromium)\n",
    "options = Options()\n",
    "options.use_chromium = True\n",
    "\n",
    "# Provide the correct path to the Edge WebDriver\n",
    "service = Service(executable_path=r\"C:\\Windows\\System32\\msedgedriver.exe\")\n",
    "\n",
    "# Initialize the WebDriver correctly using service\n",
    "driver = webdriver.Edge(service=service, options=options)"
   ]
  },
  {
   "cell_type": "markdown",
   "metadata": {},
   "source": [
    "Maximize the window and get the starting url"
   ]
  },
  {
   "cell_type": "code",
   "execution_count": 38,
   "metadata": {},
   "outputs": [],
   "source": [
    "driver.maximize_window()\n",
    "driver.get(url)"
   ]
  },
  {
   "cell_type": "markdown",
   "metadata": {},
   "source": [
    "## Scrape the data"
   ]
  },
  {
   "cell_type": "markdown",
   "metadata": {},
   "source": [
    "The page is continously scrolling, so you'll need to grab the cards, then scroll down to the bottom and repeat until finished. For this project, we are going to collect the following information:\n",
    "- Steam ID\n",
    "- Profile URL\n",
    "- Review Text\n",
    "- Review Recommendation\n",
    "- Review Length (chars)\n",
    "- Play Hours\n",
    "- Date Posted"
   ]
  },
  {
   "cell_type": "code",
   "execution_count": 39,
   "metadata": {},
   "outputs": [],
   "source": [
    "# Get current position of y scrollbar\n",
    "last_position = driver.execute_script(\"return window.pageYOffset;\")\n",
    "\n",
    "# Initialize counters and lists for both types of reviews\n",
    "reviews = []\n",
    "recommended_reviews = 0\n",
    "not_recommended_reviews = 0\n",
    "review_ids = set()\n",
    "\n",
    "# Set the review limit for each type\n",
    "review_limit = 10000\n",
    "\n",
    "running = True\n",
    "\n",
    "while running and (recommended_reviews < review_limit or not_recommended_reviews < review_limit):\n",
    "    # Get cards on the page (ensure the filter is set to 'Most Helpful' on the page)\n",
    "    cards = driver.find_elements(By.CLASS_NAME, 'apphub_Card')\n",
    "\n",
    "    for card in cards[-20:]:  # Only the tail end are new cards\n",
    "\n",
    "        # Gamer profile URL\n",
    "        profile_url = card.find_element(By.XPATH, './/div[@class=\"apphub_friend_block\"]/div/a[2]').get_attribute('href')\n",
    "\n",
    "        # Steam ID\n",
    "        steam_id = profile_url.split('/')[-2]\n",
    "\n",
    "        # Check to see if I've already collected this review\n",
    "        if steam_id in review_ids:\n",
    "            continue\n",
    "        else:\n",
    "            review_ids.add(steam_id)\n",
    "\n",
    "        # Username\n",
    "        user_name = card.find_element(By.XPATH, './/div[@class=\"apphub_friend_block\"]/div/a[2]').text\n",
    "\n",
    "        # Date posted\n",
    "        date_posted = card.find_element(By.XPATH, './/div[@class=\"apphub_CardTextContent\"]/div').text\n",
    "        review_content = card.find_element(By.XPATH, './/div[@class=\"apphub_CardTextContent\"]').text.replace(date_posted, '').strip()\n",
    "\n",
    "        # Review length\n",
    "        review_length = len(review_content.replace(' ', ''))\n",
    "\n",
    "        # Recommendation status (either \"Recommended\" or \"Not Recommended\")\n",
    "        thumb_text = card.find_element(By.XPATH, './/div[contains(@class, \"title\")][1]').text\n",
    "\n",
    "        # Amount of play hours\n",
    "        play_hours = card.find_element(By.XPATH, './/div[@class=\"reviewInfo\"]/div[3]').text\n",
    "\n",
    "        # Only collect reviews if we're under the limit for that type\n",
    "        if \"Recommended\" in thumb_text and recommended_reviews < review_limit:\n",
    "            recommended_reviews += 1\n",
    "        elif \"Not Recommended\" in thumb_text and not_recommended_reviews < review_limit:\n",
    "            not_recommended_reviews += 1\n",
    "        else:\n",
    "            continue  # Skip if limit is reached for either type\n",
    "\n",
    "        # Save the review\n",
    "        review = (steam_id, profile_url, review_content, thumb_text, review_length, play_hours, date_posted)\n",
    "        reviews.append(review)\n",
    "\n",
    "        # Check if we have collected enough reviews of both types\n",
    "        if recommended_reviews >= review_limit and not_recommended_reviews >= review_limit:\n",
    "            running = False\n",
    "            break\n",
    "\n",
    "    # Attempt to scroll down thrice, then break\n",
    "    scroll_attempt = 0\n",
    "    while True:\n",
    "        driver.execute_script(\"window.scrollTo(0, document.body.scrollHeight);\")\n",
    "        sleep(0.5)\n",
    "        curr_position = driver.execute_script(\"return window.pageYOffset;\")\n",
    "\n",
    "        if curr_position == last_position:\n",
    "            scroll_attempt += 1\n",
    "            sleep(0.5)\n",
    "\n",
    "            if scroll_attempt >= 3:\n",
    "                running = False\n",
    "                break\n",
    "        else:\n",
    "            last_position = curr_position\n",
    "            break  # Continue scraping the results\n",
    "\n",
    "# Shutdown the web driver\n",
    "driver.close()\n"
   ]
  },
  {
   "cell_type": "markdown",
   "metadata": {},
   "source": [
    "## Save the results"
   ]
  },
  {
   "cell_type": "markdown",
   "metadata": {},
   "source": [
    "You can push the data wherever you want. However, for this project, I'm going to save the data to an Excel spreadsheet using the [OpenPyXL](https://openpyxl.readthedocs.io/en/stable/) library"
   ]
  },
  {
   "cell_type": "code",
   "execution_count": 40,
   "metadata": {},
   "outputs": [],
   "source": [
    "# save the file to Excel Worksheet\n",
    "wb = Workbook()\n",
    "ws = wb.worksheets[0]\n",
    "ws.append(['SteamId', 'ProfileURL', 'ReviewText', 'Review', 'ReviewLength(Chars)', 'PlayHours', 'DatePosted'])\n",
    "for row in reviews:\n",
    "    ws.append(row)\n",
    "    \n",
    "today = datetime.today().strftime('%Y%m%d')    \n",
    "wb.save(f'Steam_Reviews_{game_id}_{today}.xlsx')    \n",
    "wb.close()"
   ]
  },
  {
   "cell_type": "code",
   "execution_count": 41,
   "metadata": {},
   "outputs": [],
   "source": [
    "# save the file to a CSV file\n",
    "today = datetime.today().strftime('%Y%m%d')   \n",
    "with open(f'Steam_Reviews_{game_id}_{today}.csv', 'w', newline='', encoding='utf-8') as f:\n",
    "    writer = csv.writer(f)\n",
    "    writer.writerow(['SteamId', 'ProfileURL', 'ReviewText', 'Review', 'ReviewLength(Chars)', 'PlayHours', 'DatePosted'])\n",
    "    writer.writerows(reviews)"
   ]
  },
  {
   "cell_type": "code",
   "execution_count": null,
   "metadata": {},
   "outputs": [],
   "source": []
  }
 ],
 "metadata": {
  "kernelspec": {
   "display_name": "Python 3 (ipykernel)",
   "language": "python",
   "name": "python3"
  },
  "language_info": {
   "codemirror_mode": {
    "name": "ipython",
    "version": 3
   },
   "file_extension": ".py",
   "mimetype": "text/x-python",
   "name": "python",
   "nbconvert_exporter": "python",
   "pygments_lexer": "ipython3",
   "version": "3.11.7"
  }
 },
 "nbformat": 4,
 "nbformat_minor": 4
}
